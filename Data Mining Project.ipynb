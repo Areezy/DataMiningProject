{
 "cells": [
  {
   "cell_type": "markdown",
   "metadata": {},
   "source": [
    "# DATA MINING PROJECT"
   ]
  },
  {
   "cell_type": "code",
   "execution_count": null,
   "metadata": {},
   "outputs": [],
   "source": [
    "import pandas as pd\n",
    "import numpy as np\n",
    "\n",
    "mytrainset = pd.read_csv('train.csv') \n",
    "mytrainset.head()\n",
    "# import and view preview of train set"
   ]
  },
  {
   "cell_type": "code",
   "execution_count": null,
   "metadata": {},
   "outputs": [],
   "source": [
    "mytestset = pd.read_csv('test.csv')\n",
    "mytestset.head()\n",
    "# import and view preview of test set"
   ]
  },
  {
   "cell_type": "code",
   "execution_count": null,
   "metadata": {},
   "outputs": [],
   "source": [
    "ages_mean_train = mytrainset['Age'].mean()\n",
    "ages_mean_train = round(ages_mean_train)\n",
    "\n",
    "ages_mean_test = mytestset['Age'].mean()\n",
    "ages_mean_test = round(ages_mean_test)\n",
    "\n",
    "# calculate the means of ages for preprocessing"
   ]
  },
  {
   "cell_type": "code",
   "execution_count": null,
   "metadata": {},
   "outputs": [],
   "source": [
    "mytrainset.info()\n",
    "mytestset.info()\n",
    "# view info of our datasets to analyze what attributes need preprocessing"
   ]
  },
  {
   "cell_type": "code",
   "execution_count": null,
   "metadata": {},
   "outputs": [],
   "source": [
    "mytrainset['Age'] = mytrainset['Age'].replace(np.nan, ages_mean_train)\n",
    "mytrainset['Age'] = mytrainset['Age'].replace(np.nan, ages_mean_train)\n",
    "mytrainset = mytrainset.drop([\"Cabin\"], axis=1)\n",
    "mytrainset = mytrainset.drop([\"Name\"], axis=1)\n",
    "mytrainset = mytrainset.drop([\"Ticket\"], axis=1)\n",
    "mytrainset['Embarked'].replace({'C':1, 'Q':2, 'S':3},inplace=True)\n",
    "mytrainset['Embarked'] = mytrainset['Embarked'].fillna(0)\n",
    "mytrainset['Sex'].replace({'male':0, 'female':1},inplace=True)\n",
    "\n",
    "mytestset['Age'] = mytestset['Age'].replace(np.nan, ages_mean_test)\n",
    "mytestset = mytestset.drop([\"Cabin\"], axis=1)\n",
    "mytestset = mytestset.drop([\"Name\"], axis=1)\n",
    "mytestset = mytestset.drop([\"Ticket\"], axis=1)\n",
    "mytestset['Embarked'].replace({'C':1, 'Q':2, 'S':3},inplace=True)\n",
    "mytestset['Sex'].replace({'male':0, 'female':1},inplace=True)\n",
    "mytestset['Fare'] = mytestset['Fare'].fillna(mytestset['Fare'].mean())\n",
    "\n",
    "# Replacing null age values with the mean of ages and dropping features that do not matter.\n",
    "# Tranform our embark attribute into numbers to aid in preprocessing\n",
    "# Replace our sex values with numbers to also aid in preprocessing\n",
    "# Filled the one fare attribute which was null with 0."
   ]
  },
  {
   "cell_type": "code",
   "execution_count": null,
   "metadata": {},
   "outputs": [],
   "source": [
    "mytrainset.info()\n",
    "mytestset.info()\n",
    "\n",
    "# Analyzing the datasets after preprocessing"
   ]
  },
  {
   "cell_type": "code",
   "execution_count": null,
   "metadata": {},
   "outputs": [],
   "source": [
    "mytrainset.head()\n",
    "\n",
    "# previewing after preprocessing"
   ]
  },
  {
   "cell_type": "code",
   "execution_count": null,
   "metadata": {},
   "outputs": [],
   "source": [
    "mytestset.head()\n",
    "\n",
    "# previewing after preprocessing"
   ]
  },
  {
   "cell_type": "code",
   "execution_count": null,
   "metadata": {},
   "outputs": [],
   "source": []
  },
  {
   "cell_type": "code",
   "execution_count": null,
   "metadata": {},
   "outputs": [],
   "source": [
    "from sklearn.ensemble import RandomForestClassifier \n",
    "from sklearn.model_selection import train_test_split\n",
    "# filtered our prediction attribute\n",
    "y = mytrainset['Survived']\n",
    "# defined our features \n",
    "features = [\"Pclass\", \"Age\", \"Sex\", \"SibSp\", \"Parch\", \"Embarked\"]\n",
    "X = mytrainset[features]\n",
    "# split our training set into a training set and a validation set 70% 30% split\n",
    "X_train, X_test, Y_train, Y_test = train_test_split(X, y, test_size=0.3, random_state=1) \n",
    "# Using random forest classifier \n",
    "model= RandomForestClassifier(n_estimators=200,max_depth=5, random_state=1)\n",
    "model = model.fit(X_train, Y_train)\n",
    "predictions = model.predict(X_test)"
   ]
  },
  {
   "cell_type": "code",
   "execution_count": null,
   "metadata": {
    "scrolled": false
   },
   "outputs": [],
   "source": [
    "from sklearn.metrics import accuracy_score\n",
    "accuracy_score(predictions, Y_test)\n",
    "# ignore this "
   ]
  },
  {
   "cell_type": "code",
   "execution_count": null,
   "metadata": {},
   "outputs": [],
   "source": [
    "from sklearn.naive_bayes import GaussianNB\n",
    "gnb = GaussianNB()\n",
    "NB_model_predictions = gnb.fit(X_train, Y_train).predict(X_test)\n",
    "accuracy_score(NB_model_predictions, Y_test)\n",
    "# Using Naive Bayses Classsifier"
   ]
  },
  {
   "cell_type": "code",
   "execution_count": null,
   "metadata": {},
   "outputs": [],
   "source": [
    "from sklearn.tree import DecisionTreeClassifier\n",
    "from sklearn import metrics\n",
    "\n",
    "decisiontreeModel = DecisionTreeClassifier()\n",
    "\n",
    "\n",
    "decisiontreeModel = decisiontreeModel.fit(X_train, Y_train)\n",
    "\n",
    "decisiontreePredicition = decisiontreeModel.predict(X_test)\n",
    "\n",
    "accuracy_score(decisiontreePredicition, Y_test)\n",
    "\n",
    "# Using decision trees classifier"
   ]
  },
  {
   "cell_type": "code",
   "execution_count": null,
   "metadata": {},
   "outputs": [],
   "source": [
    "from sklearn.metrics import confusion_matrix\n",
    "from sklearn.neighbors import KNeighborsClassifier\n",
    "\n",
    "knn = KNeighborsClassifier(n_neighbors=5, metric='euclidean')\n",
    "\n",
    "knn.fit(X_train, Y_train)\n",
    "\n",
    "knnPredictions = knn.predict(X_test)\n",
    "# confusion_matrix(y, knn.predict(X_train))\n",
    "\n",
    "accuracy_score(Y_test, knnPredictions)\n",
    "\n",
    "# Using K nearest neighnour classsifier"
   ]
  },
  {
   "cell_type": "code",
   "execution_count": null,
   "metadata": {},
   "outputs": [],
   "source": [
    "from sklearn.linear_model import LogisticRegression\n",
    "LRModel = LogisticRegression(max_iter = 200)\n",
    "LRModel.fit(X_train, Y_train)\n",
    "LRModel_Prediction = LRModel.predict(X_test)\n",
    "\n",
    "accuracy_score(Y_test, LRModel_Prediction)\n",
    "\n",
    "# using logistic regression classifier"
   ]
  },
  {
   "cell_type": "code",
   "execution_count": null,
   "metadata": {},
   "outputs": [],
   "source": [
    "# Using cross validation to analyse the accuracy of our models\n",
    "from sklearn.model_selection import cross_val_score\n",
    "scores = cross_val_score(model, X, y, cv = 5)\n",
    "scores"
   ]
  },
  {
   "cell_type": "code",
   "execution_count": null,
   "metadata": {},
   "outputs": [],
   "source": [
    "\n",
    "scores = cross_val_score(gnb, X, y, cv = 5)\n",
    "scores\n"
   ]
  },
  {
   "cell_type": "code",
   "execution_count": null,
   "metadata": {},
   "outputs": [],
   "source": [
    "\n",
    "scores = cross_val_score(decisiontreeModel, X, y, cv = 5)\n",
    "scores"
   ]
  },
  {
   "cell_type": "code",
   "execution_count": null,
   "metadata": {},
   "outputs": [],
   "source": [
    "\n",
    "scores = cross_val_score(knn, X, y, cv = 5)\n",
    "scores"
   ]
  },
  {
   "cell_type": "code",
   "execution_count": null,
   "metadata": {},
   "outputs": [],
   "source": [
    "\n",
    "scores = cross_val_score(LRModel, X, y, cv = 5)\n",
    "scores"
   ]
  },
  {
   "cell_type": "code",
   "execution_count": null,
   "metadata": {},
   "outputs": [],
   "source": []
  }
 ],
 "metadata": {
  "kernelspec": {
   "display_name": "Python 3",
   "language": "python",
   "name": "python3"
  },
  "language_info": {
   "codemirror_mode": {
    "name": "ipython",
    "version": 3
   },
   "file_extension": ".py",
   "mimetype": "text/x-python",
   "name": "python",
   "nbconvert_exporter": "python",
   "pygments_lexer": "ipython3",
   "version": "3.8.5"
  }
 },
 "nbformat": 4,
 "nbformat_minor": 4
}
